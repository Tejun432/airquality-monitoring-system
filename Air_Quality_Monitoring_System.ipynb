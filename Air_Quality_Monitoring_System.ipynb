{
 "cells": [
  {
   "cell_type": "markdown",
   "id": "88bb9a7d",
   "metadata": {},
   "source": [
    "Before you turn this problem in, make sure everything runs as expected. First, **restart the kernel** (in the menubar, select Kernel $\\rightarrow$ Restart) and then **run all cells** (in the menubar, select Cell $\\rightarrow$ Run All).\n",
    "\n",
    "Make sure you fill in any place that says `YOUR CODE HERE` or \"YOUR ANSWER HERE\", as well as your name and collaborators below:"
   ]
  },
  {
   "cell_type": "code",
   "execution_count": null,
   "id": "b2ca2d6f",
   "metadata": {},
   "outputs": [],
   "source": [
    "NAME = \"Tejaswi Nalajala\"\n",
    "COLLABORATORS = \"\""
   ]
  },
  {
   "cell_type": "markdown",
   "id": "d49f1254",
   "metadata": {},
   "source": [
    "---"
   ]
  },
  {
   "cell_type": "markdown",
   "id": "c1a08017",
   "metadata": {},
   "source": [
    "Before you turn this problem in, make sure everything runs as expected. First, **restart the kernel** (in the menubar, select Kernel $\\rightarrow$ Restart) and then **run all cells** (in the menubar, select Cell $\\rightarrow$ Run All).\n",
    "\n",
    "Make sure you fill in any place that says `YOUR CODE HERE` or \"YOUR ANSWER HERE\", as well as your name and collaborators below:"
   ]
  },
  {
   "cell_type": "code",
   "execution_count": null,
   "id": "f8756ad5",
   "metadata": {},
   "outputs": [],
   "source": [
    "NAME = \"Tejaswi Nalajala\"\n",
    "COLLABORATORS = \"\""
   ]
  },
  {
   "cell_type": "markdown",
   "id": "385a1a27",
   "metadata": {},
   "source": [
    "---"
   ]
  },
  {
   "cell_type": "markdown",
   "id": "0cb14f04-fb7c-4402-8fbb-c64766f75ee5",
   "metadata": {},
   "source": [
    "## <font color=\"brown\">Project: Air Quality Monitoring System</font>\n",
    "## <font color=\"brown\">- Tejaswi Nalajala </font>"
   ]
  },
  {
   "cell_type": "markdown",
   "id": "e0ca8c94-12f7-482c-a122-72eeba0f805f",
   "metadata": {},
   "source": [
    "## <font color=\"black\">Dashboad </font>"
   ]
  },
  {
   "cell_type": "markdown",
   "id": "b8782cec-6cbf-4722-9c5d-f030275a967b",
   "metadata": {},
   "source": [
    "collectdata.py\n",
    "\n",
    "This script collects air quality data from various sensors. \n",
    " "
   ]
  },
  {
   "cell_type": "code",
   "execution_count": null,
   "id": "b8cea760-7177-4237-a894-eb2267ad4796",
   "metadata": {},
   "outputs": [],
   "source": [
    "import requests\n",
    "import psycopg2\n",
    "from db_config import DB_SETTINGS, API_KEY\n",
    "\n",
    "def fetch_data(location):\n",
    "    url = f\"http://api.openweathermap.org/data/2.5/air_pollution?lat={location['lat']}&lon={location['lon']}&appid={API_KEY}\"\n",
    "    response = requests.get(url)\n",
    "    return response.json()\n",
    "\n",
    "def save_data(db_conn, data, location):\n",
    "    with db_conn.cursor() as cur:\n",
    "        query = \"\"\"\n",
    "            INSERT INTO air_quality (location, time, aqi, co, no2, o3, so2, pm2_5, pm10)\n",
    "            VALUES (%s, NOW(), %s, %s, %s, %s, %s, %s, %s)\n",
    "        \"\"\"\n",
    "        values = (location['name'], data['list'][0]['main']['aqi'], data['list'][0]['components']['co'],\n",
    "                  data['list'][0]['components']['no2'], data['list'][0]['components']['o3'],\n",
    "                  data['list'][0]['components']['so2'], data['list'][0]['components']['pm2_5'],\n",
    "                  data['list'][0]['components']['pm10'])\n",
    "        cur.execute(query, values)\n",
    "        db_conn.commit()\n",
    "\n",
    "def main():\n",
    "    db_conn = psycopg2.connect(**DB_SETTINGS)\n",
    "    locations = [{\"name\": \"City Center\", \"lat\": 40.7128, \"lon\": -74.0060}]\n",
    "    \n",
    "    for location in locations:\n",
    "        data = fetch_data(location)\n",
    "        save_data(db_conn, data, location)\n",
    "    \n",
    "    db_conn.close()\n",
    "\n",
    "if __name__ == \"__main__\":\n",
    "    main()\n"
   ]
  },
  {
   "cell_type": "markdown",
   "id": "bd41718d-1e1a-4ddb-a5b8-8d44d43a5336",
   "metadata": {},
   "source": [
    "db_config.py \n",
    "\n",
    "Contains database configuration settings."
   ]
  },
  {
   "cell_type": "code",
   "execution_count": 9,
   "id": "a8ffc633-8a90-46e0-a6a0-68b2194c6cc3",
   "metadata": {},
   "outputs": [],
   "source": [
    "DB_SETTINGS = {\n",
    "    'dbname': 'air_quality_db',\n",
    "    'user': 'your_username',\n",
    "    'password': 'your_password',\n",
    "    'host': 'localhost'\n",
    "}\n",
    "\n",
    "API_KEY = 'your_openweather_api_key'\n"
   ]
  },
  {
   "cell_type": "markdown",
   "id": "f9e3e189-4ed8-4e43-a869-72728fc5bcd3",
   "metadata": {},
   "source": [
    "## <font color=\"black\">Data Collection </font>"
   ]
  },
  {
   "cell_type": "markdown",
   "id": "9a5aabaf-565f-4123-bd1d-4da22d2ade24",
   "metadata": {},
   "source": [
    "cleandata.py\n",
    "\n",
    "Script to clean and validate raw air quality data."
   ]
  },
  {
   "cell_type": "code",
   "execution_count": null,
   "id": "2ab2c63a-b0aa-4671-8b1a-8c5bdac64ba3",
   "metadata": {},
   "outputs": [],
   "source": [
    "import psycopg2\n",
    "from db_config import DB_SETTINGS\n",
    "\n",
    "def clean_data(db_conn):\n",
    "    with db_conn.cursor() as cur:\n",
    "        cur.execute(\"DELETE FROM air_quality WHERE aqi IS NULL\")\n",
    "        cur.execute(\"UPDATE air_quality SET aqi = GREATEST(1, LEAST(aqi, 5))\")\n",
    "        db_conn.commit()\n",
    "\n",
    "def main():\n",
    "    db_conn = psycopg2.connect(**DB_SETTINGS)\n",
    "    clean_data(db_conn)\n",
    "    db_conn.close()\n",
    "\n",
    "if __name__ == \"__main__\":\n",
    "    main()\n"
   ]
  },
  {
   "cell_type": "markdown",
   "id": "7d54ed57-da5b-4e08-9223-7e23a21c172c",
   "metadata": {},
   "source": [
    "data_processing.py\n",
    "\n",
    "Script for advanced data processing and analytics."
   ]
  },
  {
   "cell_type": "code",
   "execution_count": null,
   "id": "03a7e74d-7453-49a5-9862-dad72f06708f",
   "metadata": {},
   "outputs": [],
   "source": [
    "import pandas as pd\n",
    "import psycopg2\n",
    "from db_config import DB_SETTINGS\n",
    "\n",
    "def create_features(db_conn):\n",
    "    query = \"SELECT * FROM air_quality\"\n",
    "    data = pd.read_sql(query, db_conn)\n",
    "\n",
    "    data['rolling_aqi'] = data['aqi'].rolling(window=3).mean()\n",
    "    data.to_sql('air_quality_features', db_conn, if_exists='replace')\n",
    "\n",
    "def main():\n",
    "    db_conn = psycopg2.connect(**DB_SETTINGS)\n",
    "    create_features(db_conn)\n",
    "    db_conn.close()\n",
    "\n",
    "if __name__ == \"__main__\":\n",
    "    main()\n"
   ]
  },
  {
   "cell_type": "markdown",
   "id": "24727636-260d-4ff3-ba85-5e41430378c9",
   "metadata": {},
   "source": [
    "## <font color=\"black\">Data Processing </font>"
   ]
  },
  {
   "cell_type": "markdown",
   "id": "b6c80618-c0fa-4fa3-8029-dfee24802a35",
   "metadata": {},
   "source": [
    "App.py\n",
    "\n",
    "Main application that integrates data collection, cleaning, and processing."
   ]
  },
  {
   "cell_type": "code",
   "execution_count": null,
   "id": "cd63b13b-20cc-45a4-b25c-212f15def08b",
   "metadata": {},
   "outputs": [],
   "source": [
    "import dash\n",
    "from dash import dcc, html\n",
    "from dash.dependencies import Input, Output\n",
    "import plotly.express as px\n",
    "import psycopg2\n",
    "import pandas as pd\n",
    "from db_config import DB_SETTINGS\n",
    "\n",
    "app = dash.Dash(__name__)\n",
    "\n",
    "def fetch_data():\n",
    "    db_conn = psycopg2.connect(**DB_SETTINGS)\n",
    "    data = pd.read_sql(\"SELECT * FROM air_quality\", db_conn)\n",
    "    db_conn.close()\n",
    "    return data\n",
    "\n",
    "app.layout = html.Div([\n",
    "    html.H1(\"Air Quality Dashboard\"),\n",
    "    dcc.Graph(id=\"map\"),\n",
    "    dcc.Interval(id=\"interval-component\", interval=5*60*1000, n_intervals=0)\n",
    "])\n",
    "\n",
    "@app.callback(\n",
    "    Output(\"map\", \"figure\"),\n",
    "    [Input(\"interval-component\", \"n_intervals\")]\n",
    ")\n",
    "def update_map(n):\n",
    "    data = fetch_data()\n",
    "    fig = px.scatter_mapbox(\n",
    "        data, lat=\"lat\", lon=\"lon\", color=\"aqi\",\n",
    "        mapbox_style=\"carto-positron\", title=\"Air Quality Index\"\n",
    "    )\n",
    "    return fig\n",
    "\n",
    "if __name__ == \"__main__\":\n",
    "    app.run_server(debug=True)\n"
   ]
  },
  {
   "cell_type": "markdown",
   "id": "5d4cc697-a00d-428d-a53a-af7272676b34",
   "metadata": {},
   "source": [
    "## <font color=\"black\">Models </font>"
   ]
  },
  {
   "cell_type": "markdown",
   "id": "08d9ee1e-585d-413e-a6c5-83e77d8b361a",
   "metadata": {},
   "source": [
    "arima.py\n",
    "\n",
    "Implements ARIMA model for air quality forecasting."
   ]
  },
  {
   "cell_type": "code",
   "execution_count": null,
   "id": "605e36f3-3220-43db-bd56-8cebfa3cee36",
   "metadata": {},
   "outputs": [],
   "source": [
    "import pandas as pd\n",
    "import psycopg2\n",
    "from statsmodels.tsa.arima.model import ARIMA\n",
    "from db_config import DB_SETTINGS\n",
    "\n",
    "def train_arima_model(data):\n",
    "    model = ARIMA(data['aqi'], order=(1, 1, 1))\n",
    "    fitted_model = model.fit()\n",
    "    return fitted_model\n",
    "\n",
    "def predict_arima(fitted_model, steps=5):\n",
    "    return fitted_model.forecast(steps=steps)\n",
    "\n",
    "def main():\n",
    "    db_conn = psycopg2.connect(**DB_SETTINGS)\n",
    "    query = \"SELECT * FROM air_quality\"\n",
    "    data = pd.read_sql(query, db_conn)\n",
    "    \n",
    "    model = train_arima_model(data)\n",
    "    predictions = predict_arima(model)\n",
    "    print(predictions)\n",
    "\n",
    "    db_conn.close()\n",
    "\n",
    "if __name__ == \"__main__\":\n",
    "    main()\n"
   ]
  },
  {
   "cell_type": "markdown",
   "id": "97c88406-50ba-4979-bed9-c55a29147111",
   "metadata": {},
   "source": [
    "lstm.py\n",
    "\n",
    "Implements LSTM model for predicting air quality trends."
   ]
  },
  {
   "cell_type": "code",
   "execution_count": null,
   "id": "a99b7865-bbf1-4b85-8ad0-5edfdfcbb89b",
   "metadata": {},
   "outputs": [],
   "source": [
    "import pandas as pd\n",
    "import numpy as np\n",
    "import tensorflow as tf\n",
    "from tensorflow.keras.models import Sequential\n",
    "from tensorflow.keras.layers import Dense, LSTM\n",
    "import psycopg2\n",
    "from db_config import DB_SETTINGS\n",
    "\n",
    "def train_lstm_model(data):\n",
    "    model = Sequential([\n",
    "        LSTM(50, return_sequences=True, input_shape=(data.shape[1], 1)),\n",
    "        LSTM(50, return_sequences=False),\n",
    "        Dense(25),\n",
    "        Dense(1)\n",
    "    ])\n",
    "    model.compile(optimizer='adam', loss='mean_squared_error')\n",
    "    model.fit(data, data, batch_size=1, epochs=1)\n",
    "    return model\n",
    "\n",
    "def main():\n",
    "    db_conn = psycopg2.connect(**DB_SETTINGS)\n",
    "    query = \"SELECT * FROM air_quality\"\n",
    "    data = pd.read_sql(query, db_conn)\n",
    "\n",
    "    data = np.array(data['aqi']).reshape(-1, 1)\n",
    "    model = train_lstm_model(data)\n",
    "    predictions = model.predict(data)\n",
    "    print(predictions)\n",
    "\n",
    "    db_conn.close()\n",
    "\n",
    "if __name__ == \"__main__\":\n",
    "    main()\n"
   ]
  },
  {
   "cell_type": "markdown",
   "id": "405fe7e8-71ca-4800-b0cb-1e79d7e0d8ba",
   "metadata": {},
   "source": [
    "## <font color=\"black\">Summary </font>"
   ]
  },
  {
   "cell_type": "code",
   "execution_count": 2,
   "id": "7c628b37-19c6-4470-9960-501b8a582120",
   "metadata": {},
   "outputs": [
    {
     "name": "stdout",
     "output_type": "stream",
     "text": [
      "Simulating data fetching and saving...\n",
      "Error fetching data for location City Center: 401 Client Error: Unauthorized for url: http://api.openweathermap.org/data/2.5/air_pollution?lat=40.7128&lon=-74.006&appid=your_api_key\n",
      "Using simulated data instead.\n",
      "Saving data for City Center...\n",
      "  AQI: 2\n",
      "  co: 201.94\n",
      "  no2: 12.56\n",
      "  o3: 68.02\n",
      "  so2: 1.45\n",
      "  pm2_5: 5.34\n",
      "  pm10: 8.67\n",
      "Error fetching data for location Uptown: 401 Client Error: Unauthorized for url: http://api.openweathermap.org/data/2.5/air_pollution?lat=40.7306&lon=-73.9352&appid=your_api_key\n",
      "Using simulated data instead.\n",
      "Saving data for Uptown...\n",
      "  AQI: 2\n",
      "  co: 201.94\n",
      "  no2: 12.56\n",
      "  o3: 68.02\n",
      "  so2: 1.45\n",
      "  pm2_5: 5.34\n",
      "  pm10: 8.67\n"
     ]
    }
   ],
   "source": [
    "import requests\n",
    "\n",
    "# API key for OpenWeatherMap (replace with your actual key if testing the API)\n",
    "API_KEY = \"your_api_key\"\n",
    "\n",
    "def fetch_data(location):\n",
    "    \"\"\"\n",
    "    Fetch air quality data from the OpenWeatherMap API for a given location.\n",
    "\n",
    "    returns simulated data if the API request fails.\n",
    "    \"\"\"\n",
    "    try:\n",
    "        # Simulated API URL (won't actually fetch anything in this temporary setup)\n",
    "        url = f\"http://api.openweathermap.org/data/2.5/air_pollution?lat={location['lat']}&lon={location['lon']}&appid={API_KEY}\"\n",
    "        response = requests.get(url)\n",
    "        response.raise_for_status()\n",
    "        return response.json()\n",
    "    except requests.RequestException as e:\n",
    "        print(f\"Error fetching data for location {location['name']}: {e}\")\n",
    "        print(\"Using simulated data instead.\")\n",
    "        # Simulated air quality data\n",
    "        return {\n",
    "            \"list\": [\n",
    "                {\n",
    "                    \"main\": {\"aqi\": 2},\n",
    "                    \"components\": {\n",
    "                        \"co\": 201.94,\n",
    "                        \"no2\": 12.56,\n",
    "                        \"o3\": 68.02,\n",
    "                        \"so2\": 1.45,\n",
    "                        \"pm2_5\": 5.34,\n",
    "                        \"pm10\": 8.67,\n",
    "                    }\n",
    "                }\n",
    "            ]\n",
    "        }\n",
    "\n",
    "def save_data(data, location):\n",
    "    \"\"\"\n",
    "    Temporarily print air quality data instead of saving it to a database.\n",
    "    \"\"\"\n",
    "    try:\n",
    "        print(f\"Saving data for {location['name']}...\")\n",
    "        print(f\"  AQI: {data['list'][0]['main']['aqi']}\")\n",
    "        for component, value in data['list'][0]['components'].items():\n",
    "            print(f\"  {component}: {value}\")\n",
    "    except KeyError as e:\n",
    "        print(f\"Error processing data for location {location['name']}: {e}\")\n",
    "\n",
    "def main():\n",
    "    \"\"\"\n",
    "    Main function to fetch and simulate saving air quality data.\n",
    "    \"\"\"\n",
    "    print(\"Simulating data fetching and saving...\")\n",
    "\n",
    "    # List of locations\n",
    "    locations = [\n",
    "        {\"name\": \"City Center\", \"lat\": 40.7128, \"lon\": -74.0060},\n",
    "        {\"name\": \"Uptown\", \"lat\": 40.7306, \"lon\": -73.9352},\n",
    "    ]\n",
    "\n",
    "    # Process each location\n",
    "    for location in locations:\n",
    "        data = fetch_data(location)\n",
    "        if data:\n",
    "            save_data(data, location)\n",
    "        else:\n",
    "            print(f\"Failed to fetch or simulate data for {location['name']}.\")\n",
    "\n",
    "if __name__ == \"__main__\":\n",
    "    main()\n"
   ]
  }
 ],
 "metadata": {
  "kernelspec": {
   "display_name": "Python 3 (ipykernel)",
   "language": "python",
   "name": "python3"
  },
  "language_info": {
   "codemirror_mode": {
    "name": "ipython",
    "version": 3
   },
   "file_extension": ".py",
   "mimetype": "text/x-python",
   "name": "python",
   "nbconvert_exporter": "python",
   "pygments_lexer": "ipython3",
   "version": "3.12.2"
  }
 },
 "nbformat": 4,
 "nbformat_minor": 5
}
